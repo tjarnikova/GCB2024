{
 "cells": [
  {
   "cell_type": "markdown",
   "id": "1a6ff7c6-634d-4e7a-839e-eb24dbe91b5d",
   "metadata": {},
   "source": [
    "### Variable to calculate: surface Revelle factor\n",
    "\n",
    "## Notebook for calculating GCB 2023 evaluation metric: Mean surface Revelle factor\n",
    "\n",
    "- calculating from regridded sos, tos, dissicos, talkos, using mocsy \n",
    "- create yearly surface Revelle factor files (mocsy solver can't do full timeseries in one go), then concatenate.\n",
    "\n",
    "\n"
   ]
  },
  {
   "cell_type": "code",
   "execution_count": 10,
   "id": "8e6ec01c-a40b-45c4-b880-85a0974cabc4",
   "metadata": {},
   "outputs": [],
   "source": [
    "%reset"
   ]
  },
  {
   "cell_type": "code",
   "execution_count": 11,
   "id": "f4ed2ffc-502c-4bcd-8f47-1ca41e0aebea",
   "metadata": {},
   "outputs": [
    {
     "name": "stdout",
     "output_type": "stream",
     "text": [
      "<module 'mocsy' from '/gpfs/home/mep22dku/scratch/SOZONE/mocsy-master/mocsy.cpython-37m-x86_64-linux-gnu.so'>\n"
     ]
    }
   ],
   "source": [
    "import numpy as np\n",
    "from cmocean import cm\n",
    "import matplotlib.pyplot as plt\n",
    "import xarray as xr\n",
    "import sys\n",
    "\n",
    "%matplotlib inline\n",
    "import warnings\n",
    "from datetime import datetime\n",
    "warnings.filterwarnings('ignore')\n",
    "import cartopy.feature as cfeature\n",
    "from importlib import reload\n",
    "import matplotlib.path as mpath\n",
    "import glob\n",
    "import sys\n",
    "sys.path.append('/gpfs/home/mep22dku/scratch/SOZONE/mocsy-master')\n",
    "import mocsy\n",
    "import numpy as np\n",
    "print(mocsy)\n",
    "\n",
    "import gsw\n",
    "from matplotlib import pyplot as plt\n",
    "import numpy as np\n",
    "\n",
    "plt.rcParams.update({'font.size': 12})\n",
    "font = {'family' : 'normal',\n",
    "'weight' : 'normal',\n",
    "'size'   : 12}\n",
    "\n",
    "plt.rc('font', **font)"
   ]
  },
  {
   "cell_type": "code",
   "execution_count": 21,
   "id": "6a120416-b12b-478e-b712-31853fd6c024",
   "metadata": {},
   "outputs": [],
   "source": [
    "demo = False #mocsy demo\n",
    "make = False #make yearly revelle factors\n",
    "savenc = True #save revelle timeseries"
   ]
  },
  {
   "cell_type": "markdown",
   "id": "0a738f56",
   "metadata": {},
   "source": []
  },
  {
   "cell_type": "markdown",
   "id": "559aeeb3-ed75-48f6-a571-df2b74160a1a",
   "metadata": {},
   "source": [
    "## mocsy demo on one year of raw output data"
   ]
  },
  {
   "cell_type": "code",
   "execution_count": 22,
   "id": "8c0c43dc-8c79-42c8-87aa-e888da1ad88d",
   "metadata": {},
   "outputs": [],
   "source": [
    "demo = False\n",
    "\n",
    "if demo:\n",
    "    \n",
    "    tmesh = xr.open_dataset('/gpfs/data/greenocean/software/resources/regrid/mesh_mask3_6.nc')\n",
    "    gridT = xr.open_dataset('/gpfs/home/mep22dku/scratch/ModelRuns/TOM12_TJ_GEA1/ORCA2_1m_20200101_20201231_grid_T.nc')\n",
    "    ptrc = xr.open_dataset('/gpfs/home/mep22dku/scratch/ModelRuns/TOM12_TJ_GEA1/ORCA2_1m_20200101_20201231_ptrc_T.nc')\n",
    "\n",
    "    print(ptrc.DIC)\n",
    "\n",
    "    tdra = np.ravel(ptrc.DIC[:,0,:,:].values * 1e3) #DIC, convert mol/L to mol/m3 (1000 L/m3)\n",
    "    ttara = np.ravel(ptrc.Alkalini[:,0,:,:].values * 1e3) #Alkalinity, convert mol/L to mol/m3 (1000 L/m3)\n",
    "    tsra = np.ravel(gridT.vosaline[:,0,:,:].values) #salt\n",
    "    tsra_psu = np.ravel(gridT.vosaline[:,0,:,:].values) *35/35.16504 #g/kg to psu (salt)\n",
    "    ttera = np.ravel(gridT.votemper[:,0,:,:].values)\n",
    "\n",
    "    tdepth = np.zeros_like(ttera)\n",
    "    tdepth[:] = tmesh.gdept_1d[0,0].values\n",
    "    ttera_is = gsw.t_from_CT(tsra,ttera,tdepth)\n",
    "    tzero = np.zeros_like(tdepth)\n",
    "    tpressure = np.zeros_like(tdepth)\n",
    "\n",
    "\n",
    "\n",
    "    response_tup = mocsy.mvars(temp=ttera_is, sal=tsra_psu, alk=ttara, dic=tdra, \n",
    "                       sil=tzero, phos=tzero, patm=tpressure, depth=tdepth, lat=tzero, \n",
    "                        optcon='mol/m3', optt='Tinsitu', optp='m',\n",
    "                        optb = 'l10', optk1k2='m10', optkf = 'dg', optgas = 'Pinsitu')\n",
    "    pH,pco2,fco2,co2,hco3,co3,OmegaA,OmegaC,BetaD,DENis,p,Tis = response_tup\n",
    "\n",
    "    BetaD = BetaD.reshape(12,149,182)\n",
    "    BetaD[BetaD>100] = np.nan\n",
    "\n",
    "    w = plt.pcolormesh(BetaD[0,:,:])\n",
    "    plt.colorbar(w)\n"
   ]
  },
  {
   "cell_type": "markdown",
   "id": "a1e56baf-f590-4ac1-a08f-371f922383c8",
   "metadata": {},
   "source": [
    "#### code to make intermediate revelle factor stuff (yearly files, calculating Revelle on the whole timeseries at once is too memory intensive)"
   ]
  },
  {
   "cell_type": "code",
   "execution_count": 23,
   "id": "2991c002-e6f9-402a-b0bf-578804946b4d",
   "metadata": {},
   "outputs": [],
   "source": [
    "\n",
    "def make_intermediate_Revelle(tsim, pwd = '/gpfs/data/greenocean/GCB/GCB2023/submissionData2023/RIV12/Tier1/',\\\n",
    "                              yrst = 1959, yrend = 2022):\n",
    "    \n",
    "    tfil = f'{pwd}dissicos_PlankTOM_{tsim}_1_gr_1959-2022_v20230829.nc'\n",
    "    dissicos = xr.open_dataset(tfil)\n",
    "    tfil = f'{pwd}talkos_PlankTOM_{tsim}_1_gr_1959-2022_v20230829.nc'\n",
    "    talkos = xr.open_dataset(tfil)\n",
    "    tfil = f'{pwd}sos_PlankTOM_{tsim}_1_gr_1959-2022_v20230829.nc'\n",
    "    sos = xr.open_dataset(tfil)\n",
    "    tfil = f'{pwd}tos_PlankTOM_{tsim}_1_gr_1959-2022_v20230829.nc'\n",
    "    tos = xr.open_dataset(tfil)\n",
    "\n",
    "    for yr in range(yrst,yrend+1):\n",
    "        print(f'sim {tsim}, {yr}')\n",
    "\n",
    "        DIC = dissicos.dissicos.sel(TIME=slice(f'{yr}-01-01', f'{yr+1}-01-01'))\n",
    "        TA = talkos.talkos.sel(TIME=slice(f'{yr}-01-01', f'{yr+1}-01-01'))\n",
    "        salt = sos.sos.sel(TIME=slice(f'{yr}-01-01', f'{yr+1}-01-01'))\n",
    "        temp = tos.tos.sel(TIME=slice(f'{yr}-01-01', f'{yr+1}-01-01'))\n",
    "\n",
    "        tdra = np.ravel(DIC.values) #DIC, mol/m3\n",
    "        ttara = np.ravel(TA.values) #Alkalinity, mol/m3 \n",
    "        tsra = np.ravel(salt.values)\n",
    "        tsra_psu = tsra *35/35.16504 #g/kg to psu (salt)\n",
    "        ttera = np.ravel(temp.values) \n",
    "\n",
    "        tdepth = np.zeros_like(ttera)\n",
    "        ttera_is = gsw.t_from_CT(tsra,ttera,tdepth)\n",
    "        tzero = np.zeros_like(tdepth)\n",
    "        tpressure = np.zeros_like(tdepth) \n",
    "        tpressure[:] = 1\n",
    "\n",
    "        response_tup = mocsy.mvars(temp=ttera_is, sal=tsra_psu, alk=ttara, dic=tdra, \n",
    "                           sil=tzero, phos=tzero, patm=tpressure, depth=tdepth, lat=tzero, \n",
    "                            optcon='mol/m3', optt='Tinsitu', optp='m',\n",
    "                            optb = 'l10', optk1k2='m10', optkf = 'dg', optgas = 'Pinsitu')\n",
    "        pH,pco2,fco2,co2,hco3,co3,OmegaA,OmegaC,BetaD,DENis,p,Tis = response_tup\n",
    "\n",
    "        BetaD = BetaD.reshape(12,180,360)\n",
    "        BetaD[BetaD>100] = np.nan\n",
    "\n",
    "        plt.figure()\n",
    "        w = plt.pcolormesh(BetaD[0,:,:])\n",
    "        plt.colorbar(w)\n",
    "\n",
    "        outputFile = f'/gpfs/data/greenocean/GCB/GCB2023/scripts/intermediateRevelledata/Revelle_PlankTOM_RIV12_{tsim}_1_gr_{yr}.nc'\n",
    "        data_vars = {'RevelleF':(['TIME', 'LATITUDE', 'LONGITUDE'], BetaD,\n",
    "        {'units': 'unitless',\n",
    "        'long_name':'Revelle Factor, BetaD from mocsy'}),\n",
    "        }\n",
    "        # define coordinates\n",
    "        coords = {'TIME': (['TIME'], DIC.TIME),\n",
    "                  'LATITUDE': (['LATITUDE'], DIC.LATITUDE),\n",
    "                'LONGITUDE': (['LONGITUDE'], DIC.LONGITUDE),\n",
    "        }\n",
    "        # define global attributes\n",
    "        attrs = {'made in':'/gpfs/data/greenocean/GCB/GCB2023/scripts/makeRevelle.ipynb',\n",
    "        }\n",
    "        ds = xr.Dataset(data_vars=data_vars,\n",
    "        coords=coords,\n",
    "        attrs=attrs)\n",
    "        ds.to_netcdf(outputFile)"
   ]
  },
  {
   "cell_type": "markdown",
   "id": "6345584f-e262-446f-964f-41ad9c6c8f09",
   "metadata": {},
   "source": []
  },
  {
   "cell_type": "code",
   "execution_count": 24,
   "id": "708374ae-96eb-4995-836e-a13ae47332f9",
   "metadata": {},
   "outputs": [],
   "source": [
    "\n",
    "if make:\n",
    "    make_intermediate_Revelle('A')\n",
    "    make_intermediate_Revelle('B')\n",
    "    make_intermediate_Revelle('C')\n",
    "    make_intermediate_Revelle('D')"
   ]
  },
  {
   "cell_type": "markdown",
   "id": "d6b93d64-c52b-45e7-9a93-447748f34f75",
   "metadata": {},
   "source": [
    "## open all the Revelle files as an mfdataset and save"
   ]
  },
  {
   "cell_type": "code",
   "execution_count": 25,
   "id": "187731da-7b42-4f28-9069-56f7ad249d73",
   "metadata": {},
   "outputs": [],
   "source": [
    "resultsdir = '/gpfs/data/greenocean/GCB/GCB2023/submissionData2023/RIV12/Tier1/'\n",
    "yrFrom = 1959\n",
    "yrTo = 2022"
   ]
  },
  {
   "cell_type": "code",
   "execution_count": 26,
   "id": "d140c380-1095-4844-8813-5ffb26e499d5",
   "metadata": {},
   "outputs": [],
   "source": [
    "def make_yearlist_intRevelle(yrst, yrend, tr):\n",
    "    yrs = np.arange(yrst,yrend+1,1)\n",
    "    ylist = []\n",
    "    for i in range(0,len(yrs)):\n",
    "        ty = f'/gpfs/data/greenocean/GCB/GCB2023/scripts/intermediateRevelledata/Revelle_PlankTOM_RIV12_{tr}_1_gr_{yrs[i]}.nc'\n",
    "        t2 = glob.glob(ty)\n",
    "        #print(t2)\n",
    "        ylist.append(t2[0])\n",
    "    return ylist\n",
    "\n",
    "if savenc:\n",
    "    ylist_A = make_yearlist_intRevelle(1959,2022,'A')\n",
    "    so_A = xr.open_mfdataset(ylist_A)\n",
    "    ylist_B = make_yearlist_intRevelle(1959,2022,'B')\n",
    "    so_B = xr.open_mfdataset(ylist_B)\n",
    "    ylist_C = make_yearlist_intRevelle(1959,2022,'C')\n",
    "    so_C = xr.open_mfdataset(ylist_C)\n",
    "    ylist_D = make_yearlist_intRevelle(1959,2022,'D')\n",
    "    so_D = xr.open_mfdataset(ylist_D)"
   ]
  },
  {
   "cell_type": "code",
   "execution_count": null,
   "id": "e5bf2355-afdd-4dbf-a107-401b2b0eced4",
   "metadata": {},
   "outputs": [],
   "source": []
  },
  {
   "cell_type": "code",
   "execution_count": 27,
   "id": "11889b67-1678-4d26-a26c-0267a4235bb1",
   "metadata": {},
   "outputs": [],
   "source": [
    "import arrow\n",
    "utc = arrow.utcnow()\n",
    "timestamp = utc.format('YYYYMMDD')\n",
    "parm = 'Revelle'\n",
    "\n",
    "\n",
    "if savenc:\n",
    "    \n",
    "    simulationID = 'A'\n",
    "    outputFile = f'{resultsdir}{parm}_PlankTOM_{simulationID}_1_gr_{yrFrom}-{yrTo}_v{timestamp}.nc'\n",
    "    so_A.to_netcdf(outputFile)\n",
    "    \n",
    "    simulationID = 'B'\n",
    "    outputFile = f'{resultsdir}{parm}_PlankTOM_{simulationID}_1_gr_{yrFrom}-{yrTo}_v{timestamp}.nc'\n",
    "    so_B.to_netcdf(outputFile)\n",
    "    \n",
    "    simulationID = 'C'\n",
    "    outputFile = f'{resultsdir}{parm}_PlankTOM_{simulationID}_1_gr_{yrFrom}-{yrTo}_v{timestamp}.nc'\n",
    "    so_C.to_netcdf(outputFile)\n",
    "    \n",
    "    simulationID = 'D'\n",
    "    outputFile = f'{resultsdir}{parm}_PlankTOM_{simulationID}_1_gr_{yrFrom}-{yrTo}_v{timestamp}.nc'\n",
    "    so_D.to_netcdf(outputFile)"
   ]
  },
  {
   "cell_type": "code",
   "execution_count": 45,
   "id": "efb06b84-0f62-4a62-b1d3-ae5a00023324",
   "metadata": {},
   "outputs": [
    {
     "data": {
      "text/plain": [
       "<matplotlib.colorbar.Colorbar at 0x2b73100cf250>"
      ]
     },
     "execution_count": 45,
     "metadata": {},
     "output_type": "execute_result"
    },
    {
     "data": {
      "image/png": "[encoded data removed]",
      "text/plain": [
       "<Figure size 432x288 with 2 Axes>"
      ]
     },
     "metadata": {
      "needs_background": "light"
     },
     "output_type": "display_data"
    }
   ],
   "source": [
    "x = so_A.isel(TIME = 700).RevelleF.values\n",
    "y = so_A.isel(TIME = 0).RevelleF.values\n",
    "q = plt.pcolormesh(x-y, vmin = 0, vmax = 0.5)\n",
    "plt.colorbar(q)"
   ]
  },
  {
   "cell_type": "code",
   "execution_count": null,
   "id": "f462f818",
   "metadata": {},
   "outputs": [],
   "source": []
  }
 ],
 "metadata": {
  "kernelspec": {
   "display_name": "Python 3 (ipykernel)",
   "language": "python",
   "name": "python3"
  }
 },
 "nbformat": 4,
 "nbformat_minor": 5
}
