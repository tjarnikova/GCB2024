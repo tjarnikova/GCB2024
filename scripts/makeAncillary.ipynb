{
 "cells": [
  {
   "cell_type": "markdown",
   "id": "64dc4f56-7939-4dbb-b983-dbd6cfcfd2ab",
   "metadata": {},
   "source": [
    "## making ancillary data for "
   ]
  },
  {
   "cell_type": "code",
   "execution_count": 12,
   "id": "bdc3a3cb-3ede-4a8e-b951-a2b7b5d251fe",
   "metadata": {},
   "outputs": [],
   "source": [
    "import numpy as np\n",
    "from cmocean import cm\n",
    "import matplotlib.pyplot as plt\n",
    "import xarray as xr\n",
    "import sys\n",
    "\n",
    "%matplotlib inline\n",
    "import warnings\n",
    "from datetime import datetime\n",
    "warnings.filterwarnings('ignore')\n",
    "import cartopy.feature as cfeature\n",
    "from importlib import reload\n",
    "import matplotlib.path as mpath\n",
    "import glob\n",
    "import sys\n",
    "\n",
    "\n",
    "import gsw\n",
    "from matplotlib import pyplot as plt\n",
    "import numpy as np\n",
    "\n",
    "plt.rcParams.update({'font.size': 12})\n",
    "font = {'family' : 'normal',\n",
    "'weight' : 'normal',\n",
    "'size'   : 12}\n",
    "\n",
    "plt.rc('font', **font)"
   ]
  },
  {
   "cell_type": "code",
   "execution_count": null,
   "id": "105142aa-9e38-48c0-845e-348000567d1d",
   "metadata": {},
   "outputs": [],
   "source": [
    "makeNativeVol = False #calculate native grid volumes\n",
    "copyAncMask = False #copy regridded mask"
   ]
  },
  {
   "cell_type": "markdown",
   "id": "f50f6e81-fe1d-45f6-97fa-c06f53b47946",
   "metadata": {},
   "source": [
    "## variables area, volume, mask_sfc, mask_vol are found in ancillary data, unchanged from 2022, so we can use that mask:"
   ]
  },
  {
   "cell_type": "code",
   "execution_count": 13,
   "id": "4e536ba9-9fc1-4805-9c53-662f0932b216",
   "metadata": {},
   "outputs": [],
   "source": [
    "if copyAncMask:\n",
    "    tdat2 = xr.open_dataset('/gpfs/data/greenocean/GCB/GCB_RECCAP/MakeAncillary/AncillaryData_v3.nc')\n",
    "    tdat2.to_netcdf('/gpfs/data/greenocean/GCB/GCB2023/submissionData2023/CAL12/Tier1/AncillaryData_mask.nc')"
   ]
  },
  {
   "cell_type": "code",
   "execution_count": 55,
   "id": "668e86ae-d5ec-477d-8890-f3dd75268625",
   "metadata": {},
   "outputs": [
    {
     "name": "stdout",
     "output_type": "stream",
     "text": [
      "[3.60890793e+14 1.10508668e+14 1.87700899e+14 6.26812254e+13]\n",
      "360890792804973.06\n",
      "360890792804973.06\n",
      "volume in m3 1.339624355371383e+18\n",
      "volume in km3 1339624355.3713832\n",
      "volume in billion km3 1.3396243553713834\n"
     ]
    }
   ],
   "source": [
    "if makeNativeVol:\n",
    "\n",
    "    tmesh = xr.open_dataset('/gpfs/data/greenocean/software/resources/regrid/mesh_mask3_6.nc')\n",
    "    tmesh['csize'] = tmesh.tmask[0,0,:,:] * tmesh.e1t[0,:,:] * tmesh.e2t[0,:,:]\n",
    "    csize_broad = np.zeros([31,149,182])\n",
    "    for i in range(0,31):\n",
    "        csize_broad[i,:,:] = tmesh['csize'].values\n",
    "    cvol = csize_broad * tmesh['e3t_0'][0,:,:,:] * tmesh['tmask'][0,:,:,:]\n",
    "\n",
    "\n",
    "    region_mask_south = np.zeros_like(tmesh.nav_lat)\n",
    "    region_mask_south[tmesh.nav_lat.values <= -30] = 1\n",
    "\n",
    "    region_mask_tropics = np.zeros_like(tmesh.nav_lat)\n",
    "    region_mask_tropics[(tmesh.nav_lat.values >= -30) & (tmesh.nav_lat.values <= 30)  ] = 1\n",
    "\n",
    "    region_mask_north = np.zeros_like(tmesh.nav_lat)\n",
    "    region_mask_north[tmesh.nav_lat.values >= 30] = 1\n",
    "\n",
    "    Area_tot_native = np.zeros(4)\n",
    "    Area_tot_native[0] = np.nansum(tmesh.csize)\n",
    "    Area_tot_native[1] = np.nansum(tmesh.csize * region_mask_south)\n",
    "    Area_tot_native[2] = np.nansum(tmesh.csize * region_mask_tropics)\n",
    "    Area_tot_native[3] = np.nansum(tmesh.csize * region_mask_north)\n",
    "\n",
    "    print(Area_tot_native)\n",
    "    print(np.nansum(Area_tot_native[0]))\n",
    "    print(np.nansum(Area_tot_native[1:4]))\n",
    "\n",
    "    Vol_tot_native = np.nansum(cvol)\n",
    "    print(f'volume in m3 {Vol_tot_native}')\n",
    "    print(f'volume in km3 {Vol_tot_native *1e-9}')\n",
    "    print(f'volume in billion km3 {Vol_tot_native *1e-9 * (1/1000000000) }')\n",
    "\n",
    "    savenam = '/gpfs/data/greenocean/GCB/GCB2023/submissionData2023/CAL12/Tier1/nativeGridDimensions.nc'\n",
    "    data_vars = {'Area_tot_native':(['REGION'], Area_tot_native,\n",
    "    {'units': 'm2',\n",
    "    'long_name':'regional surface ocean area on PlankTOM grid, 0 = globe, 1 = southern, 2 = tropics, 3 = northern'}),\n",
    "                 'Vol_tot_native':(['GLOBE'], np.array([Vol_tot_native]),\n",
    "    {'units': 'm3',\n",
    "    'long_name':'global ocean volume on PlankTOM grid'}),\n",
    "    }\n",
    "    # define coordinates\n",
    "    coords = {'REGION': (['REGION'], np.arange(0,4,1)),\n",
    "            'GLOBE': (['GLOBE'], np.zeros(1)),\n",
    "             }\n",
    "    # define global attributes\n",
    "    attrs = {'made in':'/gpfs/data/greenocean/GCB/GCB2023/scripts/makeAncillary.ipynb',\n",
    "    'desc': 'yearly medusa files, saving only variables of interest'\n",
    "    }\n",
    "    ds = xr.Dataset(data_vars=data_vars,\n",
    "    coords=coords,\n",
    "    attrs=attrs)\n",
    "    ds.to_netcdf(savenam)"
   ]
  },
  {
   "cell_type": "markdown",
   "id": "ac478c50-f7a4-4970-b491-aaf0e1712105",
   "metadata": {},
   "source": [
    "## plot atm co2 file used in model"
   ]
  },
  {
   "cell_type": "code",
   "execution_count": 79,
   "id": "2a5d3ed0-9e5b-482a-8da4-6fb7f9063cb7",
   "metadata": {},
   "outputs": [],
   "source": [
    "import pandas as pd\n",
    "w = pd.read_csv('//gpfs/data/greenocean/GCB/GCB2023/submissionData2023/CAL12/Tier1/gcbco2_2023_4200_v2_padding.dat', sep='\\t')\n",
    "\n",
    "orig = pd.read_csv('/gpfs/home/mep22dku/scratch/GCB2023_atmco2/global_co2_merged_reformat.dat', sep=',')\n"
   ]
  },
  {
   "cell_type": "code",
   "execution_count": 78,
   "id": "fb17cb95-20e0-4934-a2c5-ba44b222c91a",
   "metadata": {},
   "outputs": [
    {
     "data": {
      "text/plain": [
       "(270.0, 450.0)"
      ]
     },
     "execution_count": 78,
     "metadata": {},
     "output_type": "execute_result"
    },
    {
     "data": {
      "image/png": "[encoded data removed]",
      "text/plain": [
       "<Figure size 432x288 with 1 Axes>"
      ]
     },
     "metadata": {
      "needs_background": "light"
     },
     "output_type": "display_data"
    }
   ],
   "source": [
    "plt.plot(w['1650.042'],w['276.58'], label = 'used in model')\n",
    "plt.plot(orig['1700.042'],orig['276.58'], label = 'from protocol')\n",
    "plt.xlim([1750,2022])\n",
    "plt.ylim([270,450])"
   ]
  },
  {
   "cell_type": "markdown",
   "id": "2847dd0e-8b69-4293-b8bb-ffa380ba8ac3",
   "metadata": {},
   "source": [
    "## river and dust"
   ]
  },
  {
   "cell_type": "code",
   "execution_count": 81,
   "id": "e419422a-4d5a-482d-9911-d88b47f28870",
   "metadata": {},
   "outputs": [],
   "source": [
    "dust = xr.open_dataset('/gpfs/data/greenocean/software/resources/ModelResources/Dust/dust.Jickells2005.times035.ORCA.nc', decode_times=False)"
   ]
  },
  {
   "cell_type": "code",
   "execution_count": 96,
   "id": "61cc0938-8c69-45a6-84f4-7b3df4da3e5a",
   "metadata": {},
   "outputs": [
    {
     "name": "stdout",
     "output_type": "stream",
     "text": [
      "385.5548\n",
      "189.42738\n",
      "147.88115\n"
     ]
    },
    {
     "data": {
      "text/plain": [
       "0.7228634033203125"
      ]
     },
     "execution_count": 96,
     "metadata": {},
     "output_type": "execute_result"
    }
   ],
   "source": [
    "river = xr.open_dataset('/gpfs/data/greenocean/software/resources/ModelResources/River/river.nc', decode_times=False)\n",
    "river['RIVERDIC']\n",
    "print(np.nansum(river.RIVERDIC.values))\n",
    "print(np.nansum(river.RIVERDOC.values))\n",
    "print(np.nansum(river.RIVERPOC.values))\n",
    "riverinputs = (np.nansum(river.RIVERDIC.values + river.RIVERDOC.values + river.RIVERPOC.values) * 1/1000)\n",
    "riverinputs"
   ]
  },
  {
   "cell_type": "code",
   "execution_count": 99,
   "id": "0520e0e3-4518-4084-8bc5-976df016baf7",
   "metadata": {},
   "outputs": [],
   "source": [
    "savenam = '/gpfs/data/greenocean/GCB/GCB2023/submissionData2023/CAL12/Tier1/RiverAndBurial.nc'\n",
    "data_vars = {'RivCin':(['GLOBE'], np.array([riverinputs]),\n",
    "{'units': 'PgC/yr',\n",
    "'long_name':'River carbon inflow into the ocean, time-average'}),\n",
    "'Burial':(['GLOBE'], np.array([riverinputs]),\n",
    "{'units': 'PgC/yr',\n",
    "'long_name':'Net C flux into the sediment, timeaverage'}),\n",
    "\n",
    "}\n",
    "# define coordinates\n",
    "coords = {\n",
    "        'GLOBE': (['GLOBE'], np.zeros(1)),\n",
    "         }\n",
    "# define global attributes\n",
    "attrs = {'made in':'/gpfs/data/greenocean/GCB/GCB2023/scripts/makeAncillary.ipynb',\n",
    "'desc': ''\n",
    "}\n",
    "ds = xr.Dataset(data_vars=data_vars,\n",
    "coords=coords,\n",
    "attrs=attrs)\n",
    "ds.to_netcdf(savenam)"
   ]
  },
  {
   "cell_type": "code",
   "execution_count": null,
   "id": "5d376dce-a27e-4a37-b143-e0cddb3cdf83",
   "metadata": {},
   "outputs": [],
   "source": []
  }
 ],
 "metadata": {
  "kernelspec": {
   "display_name": "Python 3 (ipykernel)",
   "language": "python",
   "name": "python3"
  },
  "language_info": {
   "codemirror_mode": {
    "name": "ipython",
    "version": 3
   },
   "file_extension": ".py",
   "mimetype": "text/x-python",
   "name": "python",
   "nbconvert_exporter": "python",
   "pygments_lexer": "ipython3",
   "version": "3.7.11"
  }
 },
 "nbformat": 4,
 "nbformat_minor": 5
}
